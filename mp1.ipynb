{
 "cells": [
  {
   "cell_type": "code",
   "execution_count": 10,
   "id": "35ce7dd5-58e8-4d8f-9f75-955e286361b8",
   "metadata": {},
   "outputs": [
    {
     "name": "stdout",
     "output_type": "stream",
     "text": [
      "Generated Caption: a child sitting in the grass with a rainbow painted on it\n"
     ]
    }
   ],
   "source": [
    "from transformers import BlipProcessor, BlipForConditionalGeneration\n",
    "from PIL import Image\n",
    "import torch\n",
    "import pyttsx3\n",
    "# Check if GPU is available and set the device accordingly\n",
    "device = torch.device(\"cuda\" if torch.cuda.is_available() else \"cpu\")\n",
    "# Load the BLIP processor and model\n",
    "processor = BlipProcessor.from_pretrained(\"Salesforce/blip-image-captioning-base\")\n",
    "model = BlipForConditionalGeneration.from_pretrained(\"Salesforce/blip-image-captioning-base\").to(device)\n",
    "# Function to generate a caption with specific parameters\n",
    "def generate_caption(image_path, max_new_tokens=50, num_beams=5, repetition_penalty=1.2):\n",
    "    # Load and preprocess the image\n",
    "    image = Image.open(image_path).convert(\"RGB\")\n",
    "    inputs = processor(images=image, return_tensors=\"pt\").to(device)\n",
    "    \n",
    "    # Generate a caption with beam search and repetition penalty\n",
    "    outputs = model.generate(\n",
    "        **inputs,\n",
    "        max_new_tokens=max_new_tokens,\n",
    "        num_beams=num_beams,  # Beam search for better quality\n",
    "        repetition_penalty=repetition_penalty,  # Penalize repetition\n",
    "        early_stopping=True  # Stop early when all beams finish\n",
    "    )\n",
    "    caption = processor.decode(outputs[0], skip_special_tokens=True)\n",
    "    return caption\n",
    "def SpeakText(command):\n",
    "    # Initialize the pyttsx3 engine\n",
    "    engine = pyttsx3.init()\n",
    "\n",
    "    # Get details of all voices available\n",
    "    voices = engine.getProperty('voices')\n",
    "\n",
    "    # Set properties before adding anything to speak\n",
    "    engine.setProperty('rate', 150)    # Speed percent (can go over 100)\n",
    "    engine.setProperty('volume', 1)  # Volume 0-1\n",
    "    engine.setProperty('voice', voices[1].id)  # Change the voice if needed\n",
    "\n",
    "    # Pass the text to be spoken\n",
    "    engine.say(command)\n",
    "    # Run the engine to speak the text\n",
    "    engine.runAndWait()\n",
    "def main(image_path):\n",
    "    # Generate the caption for the image\n",
    "    caption = generate_caption(image_path, max_new_tokens=50, num_beams=5, repetition_penalty=1.2)\n",
    "    print(\"Generated Caption:\", caption)\n",
    "    \n",
    "    # Convert the generated caption to speech\n",
    "    SpeakText(caption)\n",
    "if __name__ == \"__main__\":\n",
    "    # Provide the path to the image\"\n",
    "    image_path = r\"C:\\Users\\Dell\\Documents\\minor-project\\dataset\\Images (1) (1)\\Augmented_Images\\resized_1002674143_1b742ab4b81.jpg\"\n",
    "    # Run the main function with the provided image path\n",
    "    main(image_path)"
   ]
  }
 ],
 "metadata": {
  "kernelspec": {
   "display_name": "Python 3 (ipykernel)",
   "language": "python",
   "name": "python3"
  },
  "language_info": {
   "codemirror_mode": {
    "name": "ipython",
    "version": 3
   },
   "file_extension": ".py",
   "mimetype": "text/x-python",
   "name": "python",
   "nbconvert_exporter": "python",
   "pygments_lexer": "ipython3",
   "version": "3.11.9"
  }
 },
 "nbformat": 4,
 "nbformat_minor": 5
}
